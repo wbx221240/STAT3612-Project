{
 "cells": [
  {
   "cell_type": "code",
   "execution_count": 3,
   "metadata": {},
   "outputs": [],
   "source": [
    "import torch \n",
    "import torch.nn as nn\n",
    "import torch.optim as optim\n",
    "from torch.utils.data import Dataset, DataLoader\n",
    "import numpy as np\n",
    "import pandas as pd\n",
    "import joblib"
   ]
  },
  {
   "cell_type": "code",
   "execution_count": null,
   "metadata": {},
   "outputs": [],
   "source": [
    "class RNN(nn.modules):\n",
    "    def __init__(self, num_layers, hidden_size, input_size):\n",
    "        super(RNN, self).__init__()\n",
    "        self.num_layers = num_layers\n",
    "        self.hidden_size = hidden_size\n",
    "        self.input_size = input_size\n",
    "        self.W_ih = nn.Parameter(torch.randn(num_layers, input_size, hidden_size))\n",
    "        self.bias_ih = nn.Parameter(torch.randn(num_layers, hidden_size))\n",
    "        self.W_hh = nn.Parameter(torch.randn(num_layers, hidden_size, hidden_size))\n",
    "        self.bias_hh = nn.Parameter(torch.randn(num_layers, hidden_size))\n",
    "        \n",
    "\n",
    "    def forward(self, x, h_0=None):\n",
    "        seq_len, batch_size, _ = x.size()\n",
    "        if h_0 == None:\n",
    "            h_0 = torch.zeros(self.num_layers, batch_size, self.hidden_size)\n",
    "        h_t_minus_1 = h_0\n",
    "        h_t = h_0\n",
    "        output = []\n",
    "        for t in range(seq_len):\n",
    "            for layer in range(self.num_layers):\n",
    "                h_t[layer] = torch.tanh(x[t] @ self.W_ih[layer] + self.bias_ih[layer] \n",
    "                                        + h_t_minus_1 @ self.W_hh[layer] + self.bias_hh[layer])\n",
    "            output.append()\n",
    "                \n",
    "\n"
   ]
  },
  {
   "cell_type": "code",
   "execution_count": null,
   "metadata": {},
   "outputs": [],
   "source": [
    "model = RNN()"
   ]
  }
 ],
 "metadata": {
  "kernelspec": {
   "display_name": "learning",
   "language": "python",
   "name": "python3"
  },
  "language_info": {
   "codemirror_mode": {
    "name": "ipython",
    "version": 3
   },
   "file_extension": ".py",
   "mimetype": "text/x-python",
   "name": "python",
   "nbconvert_exporter": "python",
   "pygments_lexer": "ipython3",
   "version": "3.11.9"
  }
 },
 "nbformat": 4,
 "nbformat_minor": 2
}
